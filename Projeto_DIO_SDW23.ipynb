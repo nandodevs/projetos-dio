{
  "nbformat": 4,
  "nbformat_minor": 0,
  "metadata": {
    "colab": {
      "provenance": [],
      "authorship_tag": "ABX9TyOftmTIYL0D/RPvuMhRCmfQ",
      "include_colab_link": true
    },
    "kernelspec": {
      "name": "python3",
      "display_name": "Python 3"
    },
    "language_info": {
      "name": "python"
    }
  },
  "cells": [
    {
      "cell_type": "markdown",
      "metadata": {
        "id": "view-in-github",
        "colab_type": "text"
      },
      "source": [
        "<a href=\"https://colab.research.google.com/github/nandodevs/projetos-dio/blob/main/Projeto_DIO_SDW23.ipynb\" target=\"_parent\"><img src=\"https://colab.research.google.com/assets/colab-badge.svg\" alt=\"Open In Colab\"/></a>"
      ]
    },
    {
      "cell_type": "markdown",
      "source": [],
      "metadata": {
        "id": "3hl7-lTzN2t4"
      }
    },
    {
      "cell_type": "markdown",
      "source": [],
      "metadata": {
        "id": "z_otQ2hUN2QE"
      }
    },
    {
      "cell_type": "code",
      "execution_count": 14,
      "metadata": {
        "id": "Xk9ma6UTM3gD"
      },
      "outputs": [],
      "source": [
        "# Acessando a URL da API\n",
        "dio_api_url = 'https://sdw-2023-prd.up.railway.app'"
      ]
    },
    {
      "cell_type": "markdown",
      "source": [
        "# Extract\n",
        "### Extraindo a lista de IDs de usuários a partir do arquivo CSV.\n"
      ],
      "metadata": {
        "id": "WrlovrcRWuQT"
      }
    },
    {
      "cell_type": "code",
      "source": [
        "# Extrair os IDs do arquivo CSV\n",
        "import pandas as pd\n",
        "\n",
        "df = pd.read_csv('sdw.csv')\n",
        "\n",
        "user_ids = df['UserID'].tolist()\n",
        "print(user_ids)"
      ],
      "metadata": {
        "id": "N0kf03OEW6N7",
        "colab": {
          "base_uri": "https://localhost:8080/"
        },
        "outputId": "a04a46c1-9693-4aa3-cccc-a66cb3c99a4a"
      },
      "execution_count": 15,
      "outputs": [
        {
          "output_type": "stream",
          "name": "stdout",
          "text": [
            "[806, 807, 808]\n"
          ]
        }
      ]
    },
    {
      "cell_type": "code",
      "source": [
        "# Lendo os dados da API\n",
        "import requests\n",
        "import json\n",
        "\n",
        "def get_user(id):\n",
        "    response = requests.get(f'{dio_api_url}/users/{id}')\n",
        "    return response.json() if response.status_code == 200 else None\n",
        "\n",
        "users = [user for id in user_ids if (user := get_user(id)) is not None] # Compreensão de Listas\n",
        "\n",
        "print(json.dumps(users, indent=2))\n"
      ],
      "metadata": {
        "id": "bpKwwI-dW6K7",
        "colab": {
          "base_uri": "https://localhost:8080/"
        },
        "outputId": "6c387aa6-4d19-4453-cf3b-e6be888ae9da"
      },
      "execution_count": 16,
      "outputs": [
        {
          "output_type": "stream",
          "name": "stdout",
          "text": [
            "[\n",
            "  {\n",
            "    \"id\": 806,\n",
            "    \"name\": \"Jack\",\n",
            "    \"account\": {\n",
            "      \"id\": 839,\n",
            "      \"number\": \"01721-2\",\n",
            "      \"agency\": \"0101\",\n",
            "      \"balance\": 0.0,\n",
            "      \"limit\": 1500.0\n",
            "    },\n",
            "    \"card\": {\n",
            "      \"id\": 782,\n",
            "      \"number\": \"**** **** **** 1566\",\n",
            "      \"limit\": 3200.0\n",
            "    },\n",
            "    \"features\": [],\n",
            "    \"news\": []\n",
            "  },\n",
            "  {\n",
            "    \"id\": 807,\n",
            "    \"name\": \"Ichigo\",\n",
            "    \"account\": {\n",
            "      \"id\": 843,\n",
            "      \"number\": \"01735-2\",\n",
            "      \"agency\": \"0553\",\n",
            "      \"balance\": 0.0,\n",
            "      \"limit\": 1580.0\n",
            "    },\n",
            "    \"card\": {\n",
            "      \"id\": 783,\n",
            "      \"number\": \"**** **** **** 8863\",\n",
            "      \"limit\": 4500.0\n",
            "    },\n",
            "    \"features\": [],\n",
            "    \"news\": []\n",
            "  },\n",
            "  {\n",
            "    \"id\": 808,\n",
            "    \"name\": \"Inozuke\",\n",
            "    \"account\": {\n",
            "      \"id\": 844,\n",
            "      \"number\": \"01788-2\",\n",
            "      \"agency\": \"0511\",\n",
            "      \"balance\": 0.0,\n",
            "      \"limit\": 15000.0\n",
            "    },\n",
            "    \"card\": {\n",
            "      \"id\": 784,\n",
            "      \"number\": \"**** **** **** 9944\",\n",
            "      \"limit\": 3000.0\n",
            "    },\n",
            "    \"features\": [],\n",
            "    \"news\": []\n",
            "  }\n",
            "]\n"
          ]
        }
      ]
    },
    {
      "cell_type": "code",
      "source": [],
      "metadata": {
        "id": "7dtkrfmbW6ID"
      },
      "execution_count": 6,
      "outputs": []
    },
    {
      "cell_type": "code",
      "source": [],
      "metadata": {
        "id": "VLw-KZVIW6AL"
      },
      "execution_count": 6,
      "outputs": []
    }
  ]
}