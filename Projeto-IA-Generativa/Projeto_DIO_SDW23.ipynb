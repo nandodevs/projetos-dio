{
  "cells": [
    {
      "cell_type": "markdown",
      "metadata": {
        "colab_type": "text",
        "id": "view-in-github"
      },
      "source": [
        "<a href=\"https://colab.research.google.com/github/nandodevs/projetos-dio/blob/main/Projeto_DIO_SDW23.ipynb\" target=\"_parent\"><img src=\"https://colab.research.google.com/assets/colab-badge.svg\" alt=\"Open In Colab\"/></a>"
      ]
    },
    {
      "cell_type": "markdown",
      "metadata": {
        "id": "3hl7-lTzN2t4"
      },
      "source": []
    },
    {
      "cell_type": "markdown",
      "metadata": {
        "id": "z_otQ2hUN2QE"
      },
      "source": []
    },
    {
      "cell_type": "code",
      "execution_count": 14,
      "metadata": {
        "id": "Xk9ma6UTM3gD"
      },
      "outputs": [],
      "source": [
        "# Acessando a URL da API\n",
        "dio_api_url = 'https://sdw-2023-prd.up.railway.app'"
      ]
    },
    {
      "cell_type": "markdown",
      "metadata": {
        "id": "WrlovrcRWuQT"
      },
      "source": [
        "# Extract\n",
        "### Extraindo a lista de IDs de usuários a partir do arquivo CSV.\n"
      ]
    },
    {
      "cell_type": "code",
      "execution_count": 15,
      "metadata": {
        "colab": {
          "base_uri": "https://localhost:8080/"
        },
        "id": "N0kf03OEW6N7",
        "outputId": "a04a46c1-9693-4aa3-cccc-a66cb3c99a4a"
      },
      "outputs": [
        {
          "name": "stdout",
          "output_type": "stream",
          "text": [
            "[806, 807, 808]\n"
          ]
        }
      ],
      "source": [
        "# Extrair os IDs do arquivo CSV\n",
        "import pandas as pd\n",
        "\n",
        "df = pd.read_csv('sdw.csv')\n",
        "\n",
        "user_ids = df['UserID'].tolist()\n",
        "print(user_ids)"
      ]
    },
    {
      "cell_type": "code",
      "execution_count": 16,
      "metadata": {
        "colab": {
          "base_uri": "https://localhost:8080/"
        },
        "id": "bpKwwI-dW6K7",
        "outputId": "6c387aa6-4d19-4453-cf3b-e6be888ae9da"
      },
      "outputs": [
        {
          "name": "stdout",
          "output_type": "stream",
          "text": [
            "[\n",
            "  {\n",
            "    \"id\": 806,\n",
            "    \"name\": \"Jack\",\n",
            "    \"account\": {\n",
            "      \"id\": 839,\n",
            "      \"number\": \"01721-2\",\n",
            "      \"agency\": \"0101\",\n",
            "      \"balance\": 0.0,\n",
            "      \"limit\": 1500.0\n",
            "    },\n",
            "    \"card\": {\n",
            "      \"id\": 782,\n",
            "      \"number\": \"**** **** **** 1566\",\n",
            "      \"limit\": 3200.0\n",
            "    },\n",
            "    \"features\": [],\n",
            "    \"news\": []\n",
            "  },\n",
            "  {\n",
            "    \"id\": 807,\n",
            "    \"name\": \"Ichigo\",\n",
            "    \"account\": {\n",
            "      \"id\": 843,\n",
            "      \"number\": \"01735-2\",\n",
            "      \"agency\": \"0553\",\n",
            "      \"balance\": 0.0,\n",
            "      \"limit\": 1580.0\n",
            "    },\n",
            "    \"card\": {\n",
            "      \"id\": 783,\n",
            "      \"number\": \"**** **** **** 8863\",\n",
            "      \"limit\": 4500.0\n",
            "    },\n",
            "    \"features\": [],\n",
            "    \"news\": []\n",
            "  },\n",
            "  {\n",
            "    \"id\": 808,\n",
            "    \"name\": \"Inozuke\",\n",
            "    \"account\": {\n",
            "      \"id\": 844,\n",
            "      \"number\": \"01788-2\",\n",
            "      \"agency\": \"0511\",\n",
            "      \"balance\": 0.0,\n",
            "      \"limit\": 15000.0\n",
            "    },\n",
            "    \"card\": {\n",
            "      \"id\": 784,\n",
            "      \"number\": \"**** **** **** 9944\",\n",
            "      \"limit\": 3000.0\n",
            "    },\n",
            "    \"features\": [],\n",
            "    \"news\": []\n",
            "  }\n",
            "]\n"
          ]
        }
      ],
      "source": [
        "# Lendo os dados da API\n",
        "import requests\n",
        "import json\n",
        "\n",
        "def get_user(id):\n",
        "    response = requests.get(f'{dio_api_url}/users/{id}')\n",
        "    return response.json() if response.status_code == 200 else None\n",
        "\n",
        "users = [user for id in user_ids if (user := get_user(id)) is not None] # Compreensão de Listas\n",
        "\n",
        "print(json.dumps(users, indent=2))\n"
      ]
    },
    {
      "cell_type": "markdown",
      "metadata": {},
      "source": [
        "# Transform"
      ]
    },
    {
      "cell_type": "code",
      "execution_count": 6,
      "metadata": {
        "id": "7dtkrfmbW6ID"
      },
      "outputs": [],
      "source": [
        "!pip install openai"
      ]
    },
    {
      "cell_type": "code",
      "execution_count": 6,
      "metadata": {
        "id": "VLw-KZVIW6AL"
      },
      "outputs": [],
      "source": [
        "# Carregando a API da OpenAI\n",
        "\n",
        "api_key = \"Seu token do ChatGPT\""
      ]
    },
    {
      "cell_type": "code",
      "execution_count": null,
      "metadata": {},
      "outputs": [],
      "source": [
        "# importando OpenAI\n",
        "import os\n",
        "import openai\n",
        "\n",
        "openai.api_key = api_key\n",
        "def generate_ai_news(user):\n",
        "    completion = openai.ChatCompletion.create(\n",
        "        model=\"gpt-3.5-turbo\",\n",
        "        messages=[\n",
        "            {\n",
        "                \"role\": \"system\",\n",
        "                \"content\": \"Você é um especialista em marketing bancário.\"\n",
        "            },\n",
        "            {\n",
        "                \"role\": \"user\",\n",
        "                \"content\": f\"Crie uma mensagem para {user['name']} sobre a importância dos investimentos (máximo de 100 caracteres)\"\n",
        "            }\n",
        "        ]\n",
        "    )\n",
        "    return completion.choices[0].message.content.strip('\\\"')\n",
        "\n",
        "for user in users:\n",
        "    news = generate_ai_news(user)\n",
        "    print(news)\n",
        "    user['news'].append(\n",
        "        {\n",
        "            \"icon\" : \"https://www.iconpacks.net/icons/2/free-credit-card-icon-2056-thumb.png\",\n",
        "            \"description\" : news\n",
        "        }\n",
        "    )\n"
      ]
    },
    {
      "cell_type": "markdown",
      "metadata": {},
      "source": [
        "# Load\n",
        "### Atualizar a lista de \"news\" de cada usuário na API com a nova mensagem gerada."
      ]
    },
    {
      "cell_type": "code",
      "execution_count": null,
      "metadata": {},
      "outputs": [],
      "source": [
        "def update_user(user):\n",
        "    response = requests.put(f\"{dio_api_url}/user['id']\", json=user)\n",
        "    return True if response.status_code == 200 else False\n",
        "\n",
        "for user in users:\n",
        "    success = update_user(user)\n",
        "    print(f\"User {user['name']} updated? {success}\")"
      ]
    }
  ],
  "metadata": {
    "colab": {
      "authorship_tag": "ABX9TyOftmTIYL0D/RPvuMhRCmfQ",
      "include_colab_link": true,
      "provenance": []
    },
    "kernelspec": {
      "display_name": "Python 3",
      "name": "python3"
    },
    "language_info": {
      "name": "python"
    }
  },
  "nbformat": 4,
  "nbformat_minor": 0
}
